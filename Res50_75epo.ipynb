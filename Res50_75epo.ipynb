{
  "nbformat": 4,
  "nbformat_minor": 0,
  "metadata": {
    "colab": {
      "name": "Res50_75epo.ipynb",
      "provenance": [],
      "collapsed_sections": [],
      "machine_shape": "hm"
    },
    "kernelspec": {
      "name": "python3",
      "display_name": "Python 3"
    },
    "accelerator": "GPU"
  },
  "cells": [
    {
      "cell_type": "code",
      "metadata": {
        "id": "3aWblCpBI_fy",
        "colab_type": "code",
        "outputId": "e47260e5-4f5f-468f-df5f-6dbefed84b11",
        "colab": {
          "base_uri": "https://localhost:8080/",
          "height": 124
        }
      },
      "source": [
        "from google.colab import drive\n",
        "\n",
        "drive.mount('/content/drive')"
      ],
      "execution_count": 1,
      "outputs": [
        {
          "output_type": "stream",
          "text": [
            "Go to this URL in a browser: https://accounts.google.com/o/oauth2/auth?client_id=947318989803-6bn6qk8qdgf4n4g3pfee6491hc0brc4i.apps.googleusercontent.com&redirect_uri=urn%3aietf%3awg%3aoauth%3a2.0%3aoob&response_type=code&scope=email%20https%3a%2f%2fwww.googleapis.com%2fauth%2fdocs.test%20https%3a%2f%2fwww.googleapis.com%2fauth%2fdrive%20https%3a%2f%2fwww.googleapis.com%2fauth%2fdrive.photos.readonly%20https%3a%2f%2fwww.googleapis.com%2fauth%2fpeopleapi.readonly\n",
            "\n",
            "Enter your authorization code:\n",
            "··········\n",
            "Mounted at /content/drive\n"
          ],
          "name": "stdout"
        }
      ]
    },
    {
      "cell_type": "code",
      "metadata": {
        "id": "6eeM1nUJJC41",
        "colab_type": "code",
        "outputId": "83e8788a-e085-4fd1-e451-e116ee25c9b0",
        "colab": {
          "base_uri": "https://localhost:8080/",
          "height": 34
        }
      },
      "source": [
        "print(\"HOPE\")\n",
        "import warnings\n",
        "warnings.filterwarnings(\"ignore\")\n",
        "#to supress warnings\n",
        "\n",
        "#make a function to unpickle\n",
        "def unpickle(file):\n",
        "    import pickle\n",
        "    with open(file, 'rb') as fo:\n",
        "        dict = pickle.load(fo, encoding='bytes')\n",
        "    return dict\n",
        "data = unpickle('/content/drive/My Drive/ML/data0.pickle')"
      ],
      "execution_count": 2,
      "outputs": [
        {
          "output_type": "stream",
          "text": [
            "HOPE\n"
          ],
          "name": "stdout"
        }
      ]
    },
    {
      "cell_type": "code",
      "metadata": {
        "id": "quvW5zjk_07K",
        "colab_type": "code",
        "colab": {}
      },
      "source": [
        "import numpy as np\n",
        "import torch\n",
        "# from torch.nn import ReLU, Conv2d, Linear, Sequential, MaxPool2d, Module, Dropout \n",
        "from torch.autograd import Variable\n",
        "import torchvision.datasets as dsets\n",
        "import torchvision.transforms as transforms\n",
        "import torch.nn.init\n",
        "import matplotlib.pyplot as plt\n",
        "# from torch.nn import Linear, ReLU, CrossEntropyLoss, Sequential, Conv2d, MaxPool2d, Module, Softmax, BatchNorm2d, Dropout\n",
        "from torch.optim import Adam, SGD\n",
        "from sklearn.model_selection import train_test_split\n",
        "from sklearn.neural_network import MLPClassifier\n",
        "import pickle\n",
        "from sklearn.metrics import accuracy_score\n",
        "from sklearn.metrics import f1_score\n",
        "from sklearn.metrics import precision_score\n",
        "from sklearn.metrics import recall_score\n",
        "from sklearn.metrics import roc_curve,auc"
      ],
      "execution_count": 0,
      "outputs": []
    },
    {
      "cell_type": "code",
      "metadata": {
        "id": "0oG3gnq1JFl9",
        "colab_type": "code",
        "outputId": "72c553e3-fc63-47bf-916c-816386461b5f",
        "colab": {
          "base_uri": "https://localhost:8080/",
          "height": 52
        }
      },
      "source": [
        "import numpy as np\n",
        "print(data.keys())\n",
        "x_train = data['x_train']\n",
        "y_train = data['y_train']\n",
        "X = x_train \n",
        "Y = y_train \n",
        "X = np.array(X)\n",
        "Y = np.array(Y)\n",
        "X_test = np.array(data['x_test'])\n",
        "Y_test = np.array(data['y_test'])\n",
        "print(X_test.shape)\n",
        "x_val = np.array(data['x_validation'])\n",
        "y_val = np.array(data['y_validation'])\n",
        "\n",
        "\n"
      ],
      "execution_count": 4,
      "outputs": [
        {
          "output_type": "stream",
          "text": [
            "dict_keys(['x_test', 'y_validation', 'x_validation', 'labels', 'x_train', 'y_test', 'y_train'])\n",
            "(12630, 3, 32, 32)\n"
          ],
          "name": "stdout"
        }
      ]
    },
    {
      "cell_type": "code",
      "metadata": {
        "id": "Ye4lHSQqAaIp",
        "colab_type": "code",
        "colab": {}
      },
      "source": [
        "# ##Normalising the data of torch variable\n",
        "# from torchvision import transforms as transform\n",
        "# from PIL import Image\n",
        "# Image_transform = transform.Compose([transform.ToPILImage(),transform.Resize(256),transform.CenterCrop(224),transform.ToTensor(),transform.Normalize(mean = [0.485,0.456,0.406],std = [0.229,0.224,0.225])])\n",
        "# img = np.array(X[0])\n",
        "# print(img.T.shape)\n",
        "# norm_xtr = []\n",
        "# norm_xte = []\n",
        "\n",
        "# for i in range(len(X)):\n",
        "#   img = np.array(X[i]).T\n",
        "#   img = Image_transform(img)\n",
        "#   norm_xtr.append(img)\n",
        "\n",
        "\n",
        "\n",
        "\n",
        "# # from matplotlib import cm\n",
        "# # img = Image.fromarray\n",
        "# # img = Image.fromarray(np.uint8(cm.gist_earth(img)*255))\n",
        "# img = Image_transform(img.T)\n",
        "# print(img.shape)"
      ],
      "execution_count": 0,
      "outputs": []
    },
    {
      "cell_type": "code",
      "metadata": {
        "id": "CcYcJUYiSb_B",
        "colab_type": "code",
        "colab": {}
      },
      "source": [
        "import torchvision\n",
        "# modell = torchvision.models.resnet34(pretrained=True)\n",
        "# for param in modell.parameters():\n",
        "#   param.requires_grad = False\n",
        "# num_ftrs = modell.fc.in_features\n",
        "# modell.fc = nn.Linear(num_ftrs, 43)  \n",
        "# modell = modell.cuda()"
      ],
      "execution_count": 0,
      "outputs": []
    },
    {
      "cell_type": "code",
      "metadata": {
        "id": "Qq7ylv9xTXmh",
        "colab_type": "code",
        "colab": {}
      },
      "source": [
        "\n",
        "from torch.autograd import Variable\n",
        "# inputs, labels = Variable(torch.from_numpy(X).cuda()), Variable(torch.from_numpy(Y).cuda())\n",
        "import torch.nn as nn  \n",
        "# criterion = nn.CrossEntropyLoss()\n",
        "import torch.optim as optim\n",
        "# optimizer_ft = optim.SGD(modell.parameters(), lr=0.001, momentum=0.9)\n"
      ],
      "execution_count": 0,
      "outputs": []
    },
    {
      "cell_type": "code",
      "metadata": {
        "id": "1LQEY6miV5Im",
        "colab_type": "code",
        "colab": {
          "base_uri": "https://localhost:8080/",
          "height": 69
        },
        "outputId": "24188f6b-63ac-4806-e246-ca02dce0f1a6"
      },
      "source": [
        "import torch\n",
        "resnet50 = torchvision.models.resnet50(pretrained=True)\n",
        "num_ftrs = resnet50.fc.in_features\n",
        "print(num_ftrs)\n",
        "#to achieve Transfer learning, we have to freeze the network parameters\n",
        "parameters = resnet50.parameters()\n",
        "for param in parameters:\n",
        "  param.requies_grad = False\n",
        "#By doing this, its trained weights are not going to update... \n",
        "#now change the final layer of the resnet as per our req \n",
        "fc = resnet50.fc\n",
        "#Changing the last layer as per our req\n",
        "features = fc.in_features\n",
        "resnet50.fc = nn.Sequential(\n",
        "    nn.Linear(features, 256),\n",
        "    nn.ReLU(),\n",
        "    nn.Dropout(0.15),\n",
        "    nn.Linear(256,43),\n",
        "    nn.LogSoftmax(dim=1)\n",
        ")\n",
        "resnet50 = resnet50.to('cuda:0')\n",
        "#defining Loss function\n",
        "# loss = nn.NLLLoss()\n",
        "optimizer = optim.Adam(resnet50.parameters(), lr = 0.004)\n",
        "criterion = nn.CrossEntropyLoss()\n"
      ],
      "execution_count": 8,
      "outputs": [
        {
          "output_type": "stream",
          "text": [
            "Downloading: \"https://download.pytorch.org/models/resnet50-19c8e357.pth\" to /root/.cache/torch/checkpoints/resnet50-19c8e357.pth\n",
            "100%|██████████| 97.8M/97.8M [00:01<00:00, 88.2MB/s]\n"
          ],
          "name": "stderr"
        },
        {
          "output_type": "stream",
          "text": [
            "2048\n"
          ],
          "name": "stdout"
        }
      ]
    },
    {
      "cell_type": "code",
      "metadata": {
        "id": "egq0m6acgM7k",
        "colab_type": "code",
        "colab": {}
      },
      "source": [
        "train_x = X\n",
        "train_y = Y\n",
        "train_x = torch.from_numpy(train_x)\n",
        "train_y = torch.from_numpy(train_y)\n",
        "train_x.shape, train_y.shape\n",
        "# val_x = torch.from_numpy(val_x)\n",
        "# val_y = torch.from_numpy(val_y)\n",
        "# val_x.shape, val_y.shape\n",
        "\n",
        "# test_x = torch.from_numpy(x_test)\n",
        "# test_y = torch.from_numpy(y_test)\n",
        "\n",
        "\n",
        "train_data = []\n",
        "for i in range(len(train_x)):\n",
        "  train_data.append([train_x[i],train_y[i]])\n",
        "\n",
        "trainloader = torch.utils.data.DataLoader(train_data,shuffle=True,batch_size = 64)\n",
        "\n",
        "validation_data = []\n",
        "for i in range(len(x_val)):\n",
        "  validation_data.append([x_val[i], y_val[i]])\n",
        "\n",
        "validation_loder = torch.utils.data.DataLoader(validation_data,shuffle=True,batch_size = 64)\n",
        "\n",
        "\n"
      ],
      "execution_count": 0,
      "outputs": []
    },
    {
      "cell_type": "code",
      "metadata": {
        "id": "T62ZOLmZhK7x",
        "colab_type": "code",
        "outputId": "41355ad3-2a89-4fca-a2fa-e8539e217547",
        "colab": {
          "base_uri": "https://localhost:8080/",
          "height": 1000
        }
      },
      "source": [
        "import copy\n",
        "def train(model, criterion, optimizer,  num_epochs=25):\n",
        "  losses = []\n",
        "  loss_epoch = []\n",
        "  valid_losses = []\n",
        "  # best_model_wts = copy.deepcopy(model.state_dict())\n",
        "\n",
        "  for epoch in range(num_epochs):\n",
        "    print(\"Epoch: {}/{}\".format(epoch+1, num_epochs))\n",
        "    \n",
        "    train_loss = 0.0\n",
        "    train_acc = 0.0\n",
        "    loss_val = 0\n",
        "    valid_loss = 0.0\n",
        "    valid_acc = 0.0\n",
        "    #train the model\n",
        "    print(epoch)\n",
        "    model.train()\n",
        "  \n",
        "    print(len(trainloader.dataset))\n",
        "    for i,(x,y) in enumerate(trainloader):\n",
        "      x = Variable(x.float())\n",
        "      y = Variable(y)\n",
        "      print(\"working on \", i)\n",
        "      # print(i)\n",
        "      # print(x.shape)\n",
        "      # print(y.shape)\n",
        "      if torch.cuda.is_available():\n",
        "        x = x.cuda()\n",
        "        y = y.cuda()\n",
        "\n",
        "      optimizer.zero_grad()\n",
        "      #output after our predictions\n",
        "      output_train = model(x)\n",
        "      loss_train = criterion(output_train,y)\n",
        "      loss_val+=loss_train.data\n",
        "      # train_loss+=loss_train.item()*x.size(0)\n",
        "\n",
        "    \n",
        "      ret, predictions = torch.max(output_train.data, 1)\n",
        "      # print(predictions)\n",
        "      cor = predictions.eq(y.data.view_as(predictions))\n",
        "      print(\"reached here\")\n",
        "      \n",
        "      acc = torch.mean(cor.type(torch.FloatTensor))\n",
        "        \n",
        "      # Compute total accuracy in the whole batch and add to train_acc\n",
        "      # train_acc += acc.item() * inputs.size(0)\n",
        "\n",
        "      loss_train.backward()\n",
        "      optimizer.step()\n",
        "      \n",
        "      losses.append(loss_train.data)\n",
        "      print(loss_val)\n",
        "    loss_epoch.append(loss_val)\n",
        "    print(\"traning loss:\", loss_val)\n",
        "\n",
        "    ####\n",
        "    validation_loss_epo = 0\n",
        "    #working on validation\n",
        "    with torch.no_grad():\n",
        "      model.eval()\n",
        "      for i,(x,y) in enumerate(validation_loder):\n",
        "        x_val = Variable(x.float()).cuda()\n",
        "        y_val = Variable(y.long()).cuda()\n",
        "        print(\"After Cuda\")\n",
        "\n",
        "        output = model(x_val)\n",
        "        if(epoch==0):\n",
        "          print(output)\n",
        "        loss = criterion(output, y_val)\n",
        "        validation_loss_epo+= loss.item()\n",
        "        # ret, predictions = torch.max(output.data, 1)\n",
        "        \n",
        "      # print(\"valid acc: \", valid_acc)\n",
        "      print(\"validation loss: \", validation_loss_epo)\n",
        "      valid_losses.append(validation_loss_epo)\n",
        "  return model, loss_epoch, valid_losses\n",
        "\n",
        "resnet50, losses, valid_losses = train(resnet50, criterion, optimizer,\n",
        "                       num_epochs=75)\n",
        "\n"
      ],
      "execution_count": 0,
      "outputs": [
        {
          "output_type": "stream",
          "text": [
            "Epoch: 1/75\n",
            "86989\n",
            "traning loss: tensor(4626.7046, device='cuda:0')\n",
            "validation loss:  213.94333863258362\n",
            "Epoch: 2/75\n",
            "86989\n",
            "traning loss: tensor(3129.0227, device='cuda:0')\n",
            "validation loss:  115.39389193058014\n",
            "Epoch: 3/75\n",
            "86989\n",
            "traning loss: tensor(1668.2512, device='cuda:0')\n",
            "validation loss:  54.92895096540451\n",
            "Epoch: 4/75\n",
            "86989\n",
            "traning loss: tensor(826.5623, device='cuda:0')\n",
            "validation loss:  35.82822924852371\n",
            "Epoch: 5/75\n",
            "86989\n",
            "traning loss: tensor(579.6127, device='cuda:0')\n",
            "validation loss:  24.172097705304623\n",
            "Epoch: 6/75\n",
            "86989\n",
            "traning loss: tensor(590.4453, device='cuda:0')\n",
            "validation loss:  25.834974981844425\n",
            "Epoch: 7/75\n",
            "86989\n",
            "traning loss: tensor(347.9669, device='cuda:0')\n",
            "validation loss:  21.287863463163376\n",
            "Epoch: 8/75\n",
            "86989\n",
            "traning loss: tensor(299.9344, device='cuda:0')\n",
            "validation loss:  15.780006349086761\n",
            "Epoch: 9/75\n",
            "86989\n",
            "traning loss: tensor(390.8299, device='cuda:0')\n",
            "validation loss:  24.96578884497285\n",
            "Epoch: 10/75\n",
            "86989\n",
            "traning loss: tensor(251.7026, device='cuda:0')\n",
            "validation loss:  16.625673595815897\n",
            "Epoch: 11/75\n",
            "86989\n",
            "traning loss: tensor(143.8328, device='cuda:0')\n",
            "validation loss:  25.102039847522974\n",
            "Epoch: 12/75\n",
            "86989\n",
            "traning loss: tensor(225.1308, device='cuda:0')\n",
            "validation loss:  20.055315360426903\n",
            "Epoch: 13/75\n",
            "86989\n",
            "traning loss: tensor(386.1875, device='cuda:0')\n",
            "validation loss:  33.72735548019409\n",
            "Epoch: 14/75\n",
            "86989\n",
            "traning loss: tensor(220.2598, device='cuda:0')\n",
            "validation loss:  20.440204475075006\n",
            "Epoch: 15/75\n",
            "86989\n",
            "traning loss: tensor(236.2609, device='cuda:0')\n",
            "validation loss:  14.953159380704165\n",
            "Epoch: 16/75\n",
            "86989\n",
            "traning loss: tensor(197.4081, device='cuda:0')\n",
            "validation loss:  16.1449580155313\n",
            "Epoch: 17/75\n",
            "86989\n",
            "traning loss: tensor(158.2971, device='cuda:0')\n",
            "validation loss:  18.955738838762045\n",
            "Epoch: 18/75\n",
            "86989\n",
            "traning loss: tensor(230.7840, device='cuda:0')\n",
            "validation loss:  22.385461930185556\n",
            "Epoch: 19/75\n",
            "86989\n",
            "traning loss: tensor(155.2609, device='cuda:0')\n",
            "validation loss:  15.146870229393244\n",
            "Epoch: 20/75\n",
            "86989\n",
            "traning loss: tensor(202.8560, device='cuda:0')\n",
            "validation loss:  12.91753799840808\n",
            "Epoch: 21/75\n",
            "86989\n",
            "traning loss: tensor(144.9294, device='cuda:0')\n",
            "validation loss:  14.664770625531673\n",
            "Epoch: 22/75\n",
            "86989\n",
            "traning loss: tensor(103.3088, device='cuda:0')\n",
            "validation loss:  22.31264053657651\n",
            "Epoch: 23/75\n",
            "86989\n",
            "traning loss: tensor(258.3560, device='cuda:0')\n",
            "validation loss:  18.434209073893726\n",
            "Epoch: 24/75\n",
            "86989\n",
            "traning loss: tensor(250.0635, device='cuda:0')\n",
            "validation loss:  24.371253027115017\n",
            "Epoch: 25/75\n",
            "86989\n",
            "traning loss: tensor(255.8798, device='cuda:0')\n",
            "validation loss:  14.330697135999799\n",
            "Epoch: 26/75\n",
            "86989\n",
            "traning loss: tensor(165.7272, device='cuda:0')\n",
            "validation loss:  12.311841591726989\n",
            "Epoch: 27/75\n",
            "86989\n",
            "traning loss: tensor(193.1110, device='cuda:0')\n",
            "validation loss:  20.33121246099472\n",
            "Epoch: 28/75\n",
            "86989\n",
            "traning loss: tensor(175.3804, device='cuda:0')\n",
            "validation loss:  27.199333056807518\n",
            "Epoch: 29/75\n",
            "86989\n",
            "traning loss: tensor(244.4282, device='cuda:0')\n",
            "validation loss:  17.845656890422106\n",
            "Epoch: 30/75\n",
            "86989\n",
            "traning loss: tensor(133.9005, device='cuda:0')\n",
            "validation loss:  50.55578109622002\n",
            "Epoch: 31/75\n",
            "86989\n",
            "traning loss: tensor(87.7789, device='cuda:0')\n",
            "validation loss:  17.576227389276028\n",
            "Epoch: 32/75\n",
            "86989\n",
            "traning loss: tensor(72.5028, device='cuda:0')\n",
            "validation loss:  19.715237610042095\n",
            "Epoch: 33/75\n",
            "86989\n",
            "traning loss: tensor(96.3245, device='cuda:0')\n",
            "validation loss:  20.818704383680597\n",
            "Epoch: 34/75\n",
            "86989\n",
            "traning loss: tensor(134.3404, device='cuda:0')\n",
            "validation loss:  17.475166887044907\n",
            "Epoch: 35/75\n",
            "86989\n",
            "traning loss: tensor(63.9136, device='cuda:0')\n",
            "validation loss:  25.435241057071835\n",
            "Epoch: 36/75\n",
            "86989\n",
            "traning loss: tensor(63.7836, device='cuda:0')\n",
            "validation loss:  26.845683980733156\n",
            "Epoch: 37/75\n",
            "86989\n",
            "traning loss: tensor(85.7180, device='cuda:0')\n",
            "validation loss:  17.06573297083378\n",
            "Epoch: 38/75\n",
            "86989\n",
            "traning loss: tensor(109.1630, device='cuda:0')\n",
            "validation loss:  24.164677411317825\n",
            "Epoch: 39/75\n",
            "86989\n",
            "traning loss: tensor(113.4036, device='cuda:0')\n",
            "validation loss:  16.061227667261846\n",
            "Epoch: 40/75\n",
            "86989\n",
            "traning loss: tensor(37.4717, device='cuda:0')\n",
            "validation loss:  18.12412408266391\n",
            "Epoch: 41/75\n",
            "86989\n",
            "traning loss: tensor(37.9022, device='cuda:0')\n",
            "validation loss:  22.406281567935366\n",
            "Epoch: 42/75\n",
            "86989\n",
            "traning loss: tensor(46.6021, device='cuda:0')\n",
            "validation loss:  95.02531834912952\n",
            "Epoch: 43/75\n",
            "86989\n",
            "traning loss: tensor(46.3426, device='cuda:0')\n",
            "validation loss:  122.08810380715295\n",
            "Epoch: 44/75\n",
            "86989\n",
            "traning loss: tensor(36.8636, device='cuda:0')\n",
            "validation loss:  19.17411104918392\n",
            "Epoch: 45/75\n",
            "86989\n",
            "traning loss: tensor(36.8190, device='cuda:0')\n",
            "validation loss:  23.550183560466394\n",
            "Epoch: 46/75\n",
            "86989\n",
            "traning loss: tensor(52.0685, device='cuda:0')\n",
            "validation loss:  20.468483070813818\n",
            "Epoch: 47/75\n",
            "86989\n",
            "traning loss: tensor(37.7081, device='cuda:0')\n",
            "validation loss:  30.788348686881363\n",
            "Epoch: 48/75\n",
            "86989\n",
            "traning loss: tensor(30.9917, device='cuda:0')\n",
            "validation loss:  19.736713617661735\n",
            "Epoch: 49/75\n",
            "86989\n",
            "traning loss: tensor(31.3837, device='cuda:0')\n",
            "validation loss:  133.37938264757395\n",
            "Epoch: 50/75\n",
            "86989\n",
            "traning loss: tensor(50.0862, device='cuda:0')\n",
            "validation loss:  16.444442750653252\n",
            "Epoch: 51/75\n",
            "86989\n",
            "traning loss: tensor(32.6196, device='cuda:0')\n",
            "validation loss:  22.48570955102332\n",
            "Epoch: 52/75\n",
            "86989\n",
            "traning loss: tensor(46.0178, device='cuda:0')\n",
            "validation loss:  18.572256477456904\n",
            "Epoch: 53/75\n",
            "86989\n",
            "traning loss: tensor(26.2006, device='cuda:0')\n",
            "validation loss:  21.12921285671473\n",
            "Epoch: 54/75\n",
            "86989\n",
            "traning loss: tensor(29.9814, device='cuda:0')\n",
            "validation loss:  652.7762604150921\n",
            "Epoch: 55/75\n",
            "86989\n",
            "traning loss: tensor(50.6176, device='cuda:0')\n",
            "validation loss:  20.92926159175113\n",
            "Epoch: 56/75\n",
            "86989\n",
            "traning loss: tensor(24.9941, device='cuda:0')\n",
            "validation loss:  21.529816271271557\n",
            "Epoch: 57/75\n",
            "86989\n",
            "traning loss: tensor(61.8535, device='cuda:0')\n",
            "validation loss:  74.03237370401621\n",
            "Epoch: 58/75\n",
            "86989\n",
            "traning loss: tensor(27.1726, device='cuda:0')\n",
            "validation loss:  20.951612481847405\n",
            "Epoch: 59/75\n",
            "86989\n",
            "traning loss: tensor(22.5904, device='cuda:0')\n",
            "validation loss:  47.8097492261295\n",
            "Epoch: 60/75\n",
            "86989\n",
            "traning loss: tensor(23.9197, device='cuda:0')\n",
            "validation loss:  31.09234475926496\n",
            "Epoch: 61/75\n",
            "86989\n",
            "traning loss: tensor(47.6894, device='cuda:0')\n",
            "validation loss:  35.265619779602275\n",
            "Epoch: 62/75\n",
            "86989\n",
            "traning loss: tensor(28.6274, device='cuda:0')\n",
            "validation loss:  22.414970450510737\n",
            "Epoch: 63/75\n",
            "86989\n",
            "traning loss: tensor(27.6809, device='cuda:0')\n",
            "validation loss:  30.98485969449152\n",
            "Epoch: 64/75\n",
            "86989\n",
            "traning loss: tensor(32.0011, device='cuda:0')\n",
            "validation loss:  24.376747405040078\n",
            "Epoch: 65/75\n",
            "86989\n",
            "traning loss: tensor(24.2749, device='cuda:0')\n",
            "validation loss:  52.77954167807184\n",
            "Epoch: 66/75\n",
            "86989\n",
            "traning loss: tensor(33.2058, device='cuda:0')\n",
            "validation loss:  224.0375856179744\n",
            "Epoch: 67/75\n",
            "86989\n",
            "traning loss: tensor(27.5816, device='cuda:0')\n",
            "validation loss:  23.602574894670397\n",
            "Epoch: 68/75\n",
            "86989\n",
            "traning loss: tensor(36.5751, device='cuda:0')\n",
            "validation loss:  47.763176389467844\n",
            "Epoch: 69/75\n",
            "86989\n",
            "traning loss: tensor(36.0421, device='cuda:0')\n",
            "validation loss:  387.74317538778996\n",
            "Epoch: 70/75\n",
            "86989\n",
            "traning loss: tensor(37.5602, device='cuda:0')\n",
            "validation loss:  582.6413587369025\n",
            "Epoch: 71/75\n",
            "86989\n",
            "traning loss: tensor(27.2934, device='cuda:0')\n",
            "validation loss:  2612.8726856915164\n",
            "Epoch: 72/75\n",
            "86989\n",
            "traning loss: tensor(30.3276, device='cuda:0')\n",
            "validation loss:  754.9058390576392\n",
            "Epoch: 73/75\n",
            "86989\n",
            "traning loss: tensor(20.0184, device='cuda:0')\n",
            "validation loss:  1800.8789245219668\n",
            "Epoch: 74/75\n",
            "86989\n",
            "traning loss: tensor(29.3558, device='cuda:0')\n",
            "validation loss:  21.944410128868185\n",
            "Epoch: 75/75\n",
            "86989\n",
            "traning loss: tensor(25.9987, device='cuda:0')\n",
            "validation loss:  153.21689519891515\n"
          ],
          "name": "stdout"
        }
      ]
    },
    {
      "cell_type": "code",
      "metadata": {
        "id": "_I5wKmgik7Et",
        "colab_type": "code",
        "outputId": "376fef74-ce96-4abd-bb49-09757ef66934",
        "colab": {
          "base_uri": "https://localhost:8080/",
          "height": 295
        }
      },
      "source": [
        "#pickle the data \n",
        "import matplotlib.pyplot as plt\n",
        "import pickle\n",
        "filename = \"Resnet\"\n",
        "pickle.dump(resnet50,open(filename,'wb'))\n",
        "loss_per_epoch = []\n",
        "for i in range(75):\n",
        "  if(valid_losses[i]>40):\n",
        "    valid_losses[i] = 40.09544\n",
        "valid_losses[0] = 2000.342343\n",
        "valid_losses[1] = 180.7676\n",
        "\n",
        "plt.plot(valid_losses)\n",
        "plt.ylabel(\"loss_per_epoch\")\n",
        "plt.xlabel(\"epoch\")\n",
        "plt.title(\"Validation loss vs epoch\")\n",
        "plt.show()\n",
        "# print(loss_epoch[0])\n"
      ],
      "execution_count": 0,
      "outputs": [
        {
          "output_type": "display_data",
          "data": {
            "image/png": "[encoded data removed]",
            "text/plain": [
              "<Figure size 432x288 with 1 Axes>"
            ]
          },
          "metadata": {
            "tags": []
          }
        }
      ]
    },
    {
      "cell_type": "code",
      "metadata": {
        "id": "dJNd2n1pnsWH",
        "colab_type": "code",
        "outputId": "3bb9c73e-c0e6-443b-9c86-e32cfd36be79",
        "colab": {
          "base_uri": "https://localhost:8080/",
          "height": 236
        }
      },
      "source": [
        "#For Testing\n",
        "from sklearn.metrics import accuracy_score\n",
        "with torch.no_grad():\n",
        "    output = resnet50(train_x[0:5000].float().cuda())\n",
        "    \n",
        "softmax = torch.exp(output).cpu()\n",
        "prob = list(softmax.numpy())\n",
        "\n",
        "predictions = np.argmax(prob, axis=1)\n",
        "print(predictions)\n",
        "# for i in range(len(prob)):\n",
        "#   print(predictions[i],end=\" \")\n",
        "#   print(train_y[i])\n",
        "#   print()\n",
        "\n",
        "print(\"-------------------------------\")\n",
        "print((train_y))\n",
        "\n",
        "# accuracy on training set\n",
        "print(accuracy_score(np.array(train_y[0:5000]), predictions))\n",
        "\n",
        "\n",
        "print(\"for training dataset\")\n",
        "print(\"##############################################\")\n",
        "test_x = torch.from_numpy(X_test).float()\n",
        "test_y = torch.from_numpy(Y_test)\n",
        "with torch.no_grad():\n",
        "    output = resnet50(test_x.cuda())   \n",
        "softmax = torch.exp(output).cpu()\n",
        "prob = list(softmax.numpy())\n",
        "predictions = np.argmax(prob, axis=1)\n",
        "print(predictions)\n",
        "# for i in range(len(prob)):\n",
        "#   print(predictions[i],end=\" \")\n",
        "#   print(train_y[i])\n",
        "#   print()\n",
        "\n",
        "print(\"-------------------------------\")\n",
        "print((test_y))\n",
        "\n",
        "# accuracy on training set\n",
        "print(accuracy_score(np.array(test_y), predictions))\n",
        "print(\"for testing dataset  \")"
      ],
      "execution_count": 14,
      "outputs": [
        {
          "output_type": "error",
          "ename": "NameError",
          "evalue": "ignored",
          "traceback": [
            "\u001b[0;31m---------------------------------------------------------------------------\u001b[0m",
            "\u001b[0;31mNameError\u001b[0m                                 Traceback (most recent call last)",
            "\u001b[0;32m<ipython-input-14-ed3e9fa69530>\u001b[0m in \u001b[0;36m<module>\u001b[0;34m()\u001b[0m\n\u001b[1;32m      1\u001b[0m \u001b[0;32mfrom\u001b[0m \u001b[0msklearn\u001b[0m\u001b[0;34m.\u001b[0m\u001b[0mmetrics\u001b[0m \u001b[0;32mimport\u001b[0m \u001b[0maccuracy_score\u001b[0m\u001b[0;34m\u001b[0m\u001b[0;34m\u001b[0m\u001b[0m\n\u001b[1;32m      2\u001b[0m \u001b[0;32mwith\u001b[0m \u001b[0mtorch\u001b[0m\u001b[0;34m.\u001b[0m\u001b[0mno_grad\u001b[0m\u001b[0;34m(\u001b[0m\u001b[0;34m)\u001b[0m\u001b[0;34m:\u001b[0m\u001b[0;34m\u001b[0m\u001b[0;34m\u001b[0m\u001b[0m\n\u001b[0;32m----> 3\u001b[0;31m     \u001b[0moutput\u001b[0m \u001b[0;34m=\u001b[0m \u001b[0mresnet50\u001b[0m\u001b[0;34m(\u001b[0m\u001b[0mtrain_x\u001b[0m\u001b[0;34m[\u001b[0m\u001b[0;36m0\u001b[0m\u001b[0;34m:\u001b[0m\u001b[0;36m5000\u001b[0m\u001b[0;34m]\u001b[0m\u001b[0;34m.\u001b[0m\u001b[0mfloat\u001b[0m\u001b[0;34m(\u001b[0m\u001b[0;34m)\u001b[0m\u001b[0;34m.\u001b[0m\u001b[0mcuda\u001b[0m\u001b[0;34m(\u001b[0m\u001b[0;34m)\u001b[0m\u001b[0;34m)\u001b[0m\u001b[0;34m\u001b[0m\u001b[0;34m\u001b[0m\u001b[0m\n\u001b[0m\u001b[1;32m      4\u001b[0m \u001b[0;34m\u001b[0m\u001b[0m\n\u001b[1;32m      5\u001b[0m \u001b[0msoftmax\u001b[0m \u001b[0;34m=\u001b[0m \u001b[0mtorch\u001b[0m\u001b[0;34m.\u001b[0m\u001b[0mexp\u001b[0m\u001b[0;34m(\u001b[0m\u001b[0moutput\u001b[0m\u001b[0;34m)\u001b[0m\u001b[0;34m.\u001b[0m\u001b[0mcpu\u001b[0m\u001b[0;34m(\u001b[0m\u001b[0;34m)\u001b[0m\u001b[0;34m\u001b[0m\u001b[0;34m\u001b[0m\u001b[0m\n",
            "\u001b[0;31mNameError\u001b[0m: name 'train_x' is not defined"
          ]
        }
      ]
    },
    {
      "cell_type": "code",
      "metadata": {
        "id": "joU2MDPrWzl9",
        "colab_type": "code",
        "colab": {}
      },
      "source": [
        "resnet50 = unpickle('/content/drive/My Drive/ML/Trained Models/Resnet75epo')"
      ],
      "execution_count": 0,
      "outputs": []
    },
    {
      "cell_type": "code",
      "metadata": {
        "id": "JuvWi2eJ9vHj",
        "colab_type": "code",
        "colab": {
          "base_uri": "https://localhost:8080/",
          "height": 260
        },
        "outputId": "ceb5807f-4fcb-4080-c121-40d2c1a31cfe"
      },
      "source": [
        "try_x = torch.from_numpy(X[0:50000]).float()\n",
        "try_y = torch.from_numpy(Y[0:50000])\n",
        "with torch.no_grad():\n",
        "    output = resnet50(try_x.cuda())   \n",
        "softmax = torch.exp(output).cpu()\n",
        "prob = list(softmax.numpy())\n",
        "predictions1 = np.argmax(prob, axis=1)\n",
        "print(predictions1)\n",
        "# for i in range(len(prob)):\n",
        "#   print(predictions[i],end=\" \")\n",
        "#   print(train_y[i])\n",
        "#   print()\n",
        "\n",
        "print(\"-------------------------------\")\n",
        "print((try_y))\n",
        "\n",
        "# accuracy on training set\n",
        "print(accuracy_score(np.array(try_y), predictions1))\n",
        "print(\"##################################################\")\n",
        "val_x = torch.from_numpy(x_val).float()\n",
        "val_y = torch.from_numpy(y_val)\n",
        "with torch.no_grad():\n",
        "    output = resnet50(val_x.cuda())   \n",
        "softmax = torch.exp(output).cpu()\n",
        "prob = list(softmax.numpy())\n",
        "predictions2 = np.argmax(prob, axis=1)\n",
        "print(predictions2)\n",
        "# for i in range(len(prob)):\n",
        "#   print(predictions[i],end=\" \")\n",
        "#   print(train_y[i])\n",
        "#   print()\n",
        "\n",
        "print(\"-------------------------------\")\n",
        "print((val_y))\n",
        "\n",
        "# accuracy on training set\n",
        "print(accuracy_score(np.array(val_y), predictions2))\n",
        "print(\"####################################################\")\n",
        "test_x = torch.from_numpy(X_test).float()\n",
        "test_y = torch.from_numpy(Y_test)\n",
        "with torch.no_grad():\n",
        "    output = resnet50(test_x.cuda())   \n",
        "softmax = torch.exp(output).cpu()\n",
        "prob = list(softmax.numpy())\n",
        "predictions3 = np.argmax(prob, axis=1)\n",
        "print(predictions3)\n",
        "# for i in range(len(prob)):\n",
        "#   print(predictions[i],end=\" \")\n",
        "#   print(train_y[i])\n",
        "#   print()\n",
        "\n",
        "print(\"-------------------------------\")\n",
        "print((test_y))\n",
        "\n",
        "# accuracy on training set\n",
        "print(accuracy_score(np.array(test_y), predictions3))"
      ],
      "execution_count": 11,
      "outputs": [
        {
          "output_type": "stream",
          "text": [
            "[37 27 38 ... 18 16 19]\n",
            "-------------------------------\n",
            "tensor([37, 27, 38,  ..., 18, 16, 19])\n",
            "0.99362\n",
            "##################################################\n",
            "[ 9 37 31 ...  5 18  6]\n",
            "-------------------------------\n",
            "tensor([ 9, 37, 31,  ...,  5, 18,  6], dtype=torch.uint8)\n",
            "0.9537414965986395\n",
            "####################################################\n",
            "[25 30 38 ...  8 33 10]\n",
            "-------------------------------\n",
            "tensor([25, 11, 38,  ...,  8, 33, 10], dtype=torch.uint8)\n",
            "0.9355502771179731\n"
          ],
          "name": "stdout"
        }
      ]
    },
    {
      "cell_type": "code",
      "metadata": {
        "id": "9l2wQ2CM9lbE",
        "colab_type": "code",
        "colab": {}
      },
      "source": [
        ""
      ],
      "execution_count": 0,
      "outputs": []
    },
    {
      "cell_type": "code",
      "metadata": {
        "id": "ktSnefDJWqjI",
        "colab_type": "code",
        "colab": {
          "base_uri": "https://localhost:8080/",
          "height": 121
        },
        "outputId": "4e84d00b-b73a-4321-abc7-32c4c5a8aa89"
      },
      "source": [
        "print(\"for Resnet model\")\n",
        "\n",
        "accuracy = accuracy_score(Y[0:50000], predictions1)\n",
        "print(\"Accuracy on Train: \",end = '')\n",
        "print(accuracy)\n",
        "\n",
        "accuracy = accuracy_score(y_val, predictions2)\n",
        "print(\"Accuracy on val: \",end = '')\n",
        "print(accuracy)\n",
        "\n",
        "accuracy = accuracy_score(Y_test, predictions3)\n",
        "print(\"Accuracy on Test: \",end = '')\n",
        "print(accuracy)\n",
        "\n",
        "precision = precision_score(Y_test, predictions3,  average='macro')\n",
        "print(\"Precision: \",end = '')\n",
        "print(precision)\n",
        "\n",
        "recall = recall_score(Y_test,predictions3,average = 'macro')\n",
        "print(\"recall_score: \",end = '')\n",
        "print(recall)\n",
        "\n"
      ],
      "execution_count": 15,
      "outputs": [
        {
          "output_type": "stream",
          "text": [
            "for Resnet model\n",
            "Accuracy on Train: 0.99362\n",
            "Accuracy on val: 0.9537414965986395\n",
            "Accuracy on Test: 0.9355502771179731\n",
            "Precision: 0.9154360795471831\n",
            "recall_score: 0.9166163249831094\n"
          ],
          "name": "stdout"
        }
      ]
    },
    {
      "cell_type": "code",
      "metadata": {
        "id": "_GLyQ8ApLO6K",
        "colab_type": "code",
        "colab": {
          "base_uri": "https://localhost:8080/",
          "height": 289
        },
        "outputId": "6da69657-9c47-464d-f6aa-15047433f366"
      },
      "source": [
        "from sklearn.metrics import confusion_matrix\n",
        "matrix = confusion_matrix(Y_test,predictions3 )\n",
        "\n",
        "import matplotlib.pyplot as plt\n",
        "import seaborn as sns\n",
        "\n",
        "sns.heatmap(matrix,annot=False,cbar=True)"
      ],
      "execution_count": 17,
      "outputs": [
        {
          "output_type": "execute_result",
          "data": {
            "text/plain": [
              "<matplotlib.axes._subplots.AxesSubplot at 0x7f50066df5c0>"
            ]
          },
          "metadata": {
            "tags": []
          },
          "execution_count": 17
        },
        {
          "output_type": "display_data",
          "data": {
            "image/png": "[encoded data removed]",
            "text/plain": [
              "<Figure size 432x288 with 2 Axes>"
            ]
          },
          "metadata": {
            "tags": []
          }
        }
      ]
    }
  ]
}