{
  "nbformat": 4,
  "nbformat_minor": 0,
  "metadata": {
    "colab": {
      "name": "ResNormalized.ipynb",
      "provenance": [],
      "collapsed_sections": []
    },
    "kernelspec": {
      "name": "python3",
      "display_name": "Python 3"
    },
    "accelerator": "GPU"
  },
  "cells": [
    {
      "cell_type": "code",
      "metadata": {
        "id": "Z0-3ZsOig-Oa",
        "colab_type": "code",
        "colab": {
          "base_uri": "https://localhost:8080/",
          "height": 120
        },
        "outputId": "b1a61e0c-25fa-4776-f40f-f621da9c7a73"
      },
      "source": [
        "from google.colab import drive\n",
        "\n",
        "drive.mount('/content/drive')"
      ],
      "execution_count": 1,
      "outputs": [
        {
          "output_type": "stream",
          "text": [
            "Go to this URL in a browser: https://accounts.google.com/o/oauth2/auth?client_id=947318989803-6bn6qk8qdgf4n4g3pfee6491hc0brc4i.apps.googleusercontent.com&redirect_uri=urn%3aietf%3awg%3aoauth%3a2.0%3aoob&response_type=code&scope=email%20https%3a%2f%2fwww.googleapis.com%2fauth%2fdocs.test%20https%3a%2f%2fwww.googleapis.com%2fauth%2fdrive%20https%3a%2f%2fwww.googleapis.com%2fauth%2fdrive.photos.readonly%20https%3a%2f%2fwww.googleapis.com%2fauth%2fpeopleapi.readonly\n",
            "\n",
            "Enter your authorization code:\n",
            "··········\n",
            "Mounted at /content/drive\n"
          ],
          "name": "stdout"
        }
      ]
    },
    {
      "cell_type": "code",
      "metadata": {
        "id": "aPGeE8UPhGWI",
        "colab_type": "code",
        "colab": {
          "base_uri": "https://localhost:8080/",
          "height": 33
        },
        "outputId": "672511b8-5440-4752-9fd2-6da0e6ca1163"
      },
      "source": [
        "print(\"HOPE\")\n",
        "import warnings\n",
        "warnings.filterwarnings(\"ignore\")\n",
        "#to supress warnings\n",
        "\n",
        "#make a function to unpickle\n",
        "def unpickle(file):\n",
        "    import pickle\n",
        "    with open(file, 'rb') as fo:\n",
        "        dict = pickle.load(fo, encoding='bytes')\n",
        "    return dict\n",
        "data = unpickle('/content/drive/My Drive/ML/data3.pickle')"
      ],
      "execution_count": 2,
      "outputs": [
        {
          "output_type": "stream",
          "text": [
            "HOPE\n"
          ],
          "name": "stdout"
        }
      ]
    },
    {
      "cell_type": "code",
      "metadata": {
        "id": "XpCKzBwOhI7A",
        "colab_type": "code",
        "colab": {
          "base_uri": "https://localhost:8080/",
          "height": 50
        },
        "outputId": "10f8cd65-876c-4c75-e7fe-2dd9de442c58"
      },
      "source": [
        "import numpy as np\n",
        "print(data.keys())\n",
        "x_train = data['x_train']\n",
        "y_train = data['y_train']\n",
        "X = x_train \n",
        "Y = y_train \n",
        "X = np.array(X)\n",
        "Y = np.array(Y)\n",
        "X_test = np.array(data['x_test'])\n",
        "Y_test = np.array(data['y_test'])\n",
        "print(X_test.shape)\n",
        "x_val = np.array(data['x_validation'])\n",
        "y_val = np.array(data['y_validation'])\n",
        "\n",
        "\n"
      ],
      "execution_count": 3,
      "outputs": [
        {
          "output_type": "stream",
          "text": [
            "dict_keys(['labels', 'y_validation', 'x_test', 'x_validation', 'x_train', 'y_test', 'y_train'])\n",
            "(12630, 3, 32, 32)\n"
          ],
          "name": "stdout"
        }
      ]
    },
    {
      "cell_type": "code",
      "metadata": {
        "id": "BoTLk4s_hJAf",
        "colab_type": "code",
        "colab": {}
      },
      "source": [
        "import torchvision\n",
        "# modell = torchvision.models.resnet34(pretrained=True)\n",
        "# for param in modell.parameters():\n",
        "#   param.requires_grad = False\n",
        "# num_ftrs = modell.fc.in_features\n",
        "# modell.fc = nn.Linear(num_ftrs, 43)  \n",
        "# modell = modell.cuda()\n",
        "\n",
        "\n",
        "\n",
        "from torch.autograd import Variable\n",
        "# inputs, labels = Variable(torch.from_numpy(X).cuda()), Variable(torch.from_numpy(Y).cuda())\n",
        "import torch.nn as nn  \n",
        "# criterion = nn.CrossEntropyLoss()\n",
        "import torch.optim as optim\n",
        "# optimizer_ft = optim.SGD(modell.parameters(), lr=0.001, momentum=0.9)\n",
        "\n",
        "\n"
      ],
      "execution_count": 0,
      "outputs": []
    },
    {
      "cell_type": "code",
      "metadata": {
        "id": "c1QnuSlshJF4",
        "colab_type": "code",
        "colab": {
          "base_uri": "https://localhost:8080/",
          "height": 70
        },
        "outputId": "cc3f0154-8f1f-48b8-ce6f-eac0190efdb8"
      },
      "source": [
        "import torch\n",
        "resnet50 = torchvision.models.resnet50(pretrained=True)\n",
        "num_ftrs = resnet50.fc.in_features\n",
        "print(num_ftrs)\n",
        "#to achieve Transfer learning, we have to freeze the network parameters\n",
        "parameters = resnet50.parameters()\n",
        "for param in parameters:\n",
        "  param.requies_grad = False\n",
        "#By doing this, its trained weights are not going to update... \n",
        "#now change the final layer of the resnet as per our req \n",
        "fc = resnet50.fc\n",
        "features = fc.in_features\n",
        "print(\"done till here\")\n",
        "resnet50.fc = nn.Sequential(\n",
        "    nn.Linear(features, 256),\n",
        "    nn.ReLU(),\n",
        "    nn.Dropout(0.15),\n",
        "    nn.Linear(256,43),\n",
        "    nn.LogSoftmax(dim=1)\n",
        ")\n",
        "resnet50 = resnet50.to('cuda:0')\n",
        "#defining Loss function\n",
        "# loss = nn.NLLLoss()\n",
        "optimizer = optim.Adam(resnet50.parameters(), lr = 0.004)\n",
        "criterion = nn.CrossEntropyLoss()\n"
      ],
      "execution_count": 5,
      "outputs": [
        {
          "output_type": "stream",
          "text": [
            "Downloading: \"https://download.pytorch.org/models/resnet50-19c8e357.pth\" to /root/.cache/torch/checkpoints/resnet50-19c8e357.pth\n",
            "100%|██████████| 97.8M/97.8M [00:00<00:00, 139MB/s]\n"
          ],
          "name": "stderr"
        }
      ]
    },
    {
      "cell_type": "code",
      "metadata": {
        "id": "z0aj3AhlhJHv",
        "colab_type": "code",
        "colab": {}
      },
      "source": [
        "train_x = X\n",
        "train_y = Y\n",
        "train_x = torch.from_numpy(train_x)\n",
        "train_y = torch.from_numpy(train_y)\n",
        "train_x.shape, train_y.shape\n",
        "# val_x = torch.from_numpy(val_x)\n",
        "# val_y = torch.from_numpy(val_y)\n",
        "# val_x.shape, val_y.shape\n",
        "\n",
        "# test_x = torch.from_numpy(x_test)\n",
        "# test_y = torch.from_numpy(y_test)\n",
        "\n",
        "\n",
        "train_data = []\n",
        "for i in range(len(train_x)):\n",
        "  train_data.append([train_x[i],train_y[i]])\n",
        "\n",
        "trainloader = torch.utils.data.DataLoader(train_data,shuffle=True,batch_size = 64)\n",
        "\n",
        "validation_data = []\n",
        "for i in range(len(x_val)):\n",
        "  validation_data.append([x_val[i], y_val[i]])\n",
        "\n",
        "validation_loder = torch.utils.data.DataLoader(validation_data,shuffle=True,batch_size = 64)\n",
        "\n",
        "\n"
      ],
      "execution_count": 0,
      "outputs": []
    },
    {
      "cell_type": "code",
      "metadata": {
        "id": "g1uHRt6ihJMX",
        "colab_type": "code",
        "colab": {
          "base_uri": "https://localhost:8080/",
          "height": 1000
        },
        "outputId": "110e921f-c887-48d5-823e-223e0c859dbb"
      },
      "source": [
        "import copy\n",
        "def train(model, criterion, optimizer,  num_epochs=25):\n",
        "  losses = []\n",
        "  loss_epoch = []\n",
        "  valid_losses = []\n",
        "\n",
        "  for epoch in range(num_epochs):\n",
        "    print(\"Epoch: {}/{}\".format(epoch+1, num_epochs))\n",
        "    \n",
        "    train_loss = 0.0\n",
        "    train_acc = 0.0\n",
        "\n",
        "    loss_val = 0\n",
        "    \n",
        "    valid_loss = 0.0\n",
        "    valid_acc = 0.0\n",
        "\n",
        "    model.train()\n",
        "  \n",
        "    print(len(trainloader.dataset))\n",
        "    for i,(x,y) in enumerate(trainloader):\n",
        "      x = Variable(x.float())\n",
        "      y = Variable(y)\n",
        "      # print(i)\n",
        "      # print(x.shape)\n",
        "      # print(y.shape)\n",
        "      if torch.cuda.is_available():\n",
        "        x = x.cuda()\n",
        "        y = y.cuda()\n",
        "\n",
        "      optimizer.zero_grad()\n",
        "      output_train = model(x)\n",
        "      loss_train = criterion(output_train,y)\n",
        "      loss_val+=loss_train.data\n",
        "      print(\"iteration:\",i)\n",
        "\n",
        "      #computing accuracy\n",
        "      ret, predictions = torch.max(output_train.data, 1)\n",
        "      correct_counts = predictions.eq(y.data.view_as(predictions))\n",
        "        \n",
        "      acc = torch.mean(correct_counts.type(torch.FloatTensor))\n",
        "        \n",
        "      loss_train.backward()\n",
        "      optimizer.step()\n",
        "      \n",
        "      losses.append(loss_train.data)\n",
        "    loss_epoch.append(loss_val)\n",
        "    print(\"traning loss:\", loss_val)\n",
        "\n",
        "    ####\n",
        "    validation_loss_epo = 0\n",
        "    #working on validation\n",
        "    with torch.no_grad():\n",
        "      model.eval()\n",
        "      for i,(x,y) in enumerate(validation_loder):\n",
        "        x_val = Variable(x.float()).cuda()\n",
        "        y_val = Variable(y.long()).cuda()\n",
        "\n",
        "        output = model(x_val)\n",
        "        if(epoch==0):\n",
        "          print(output)\n",
        "        loss = criterion(output, y_val)\n",
        "        validation_loss_epo+= loss.item()\n",
        "        \n",
        "      # print(\"valid acc: \", valid_acc)\n",
        "      print(\"validation loss: \", validation_loss_epo)\n",
        "      valid_losses.append(validation_loss_epo)\n",
        "  return model, loss_epoch, valid_losses\n",
        "\n",
        "resnet50, losses, valid_losses = train(resnet50, criterion, optimizer,\n",
        "                       num_epochs=25)\n",
        "\n"
      ],
      "execution_count": 8,
      "outputs": [
        {
          "output_type": "stream",
          "text": [
            "Epoch: 1/25\n",
            "86989\n",
            "traning loss: tensor(4610.4800, device='cuda:0')\n",
            "validation loss:  183.73795819282532\n",
            "Epoch: 2/25\n",
            "86989\n",
            "traning loss: tensor(3315.7783, device='cuda:0')\n",
            "validation loss:  115.12719118595123\n",
            "Epoch: 3/25\n",
            "86989\n",
            "traning loss: tensor(1537.9922, device='cuda:0')\n",
            "validation loss:  56.40495482087135\n",
            "Epoch: 4/25\n",
            "86989\n",
            "traning loss: tensor(866.9765, device='cuda:0')\n",
            "validation loss:  32.11006048321724\n",
            "Epoch: 5/25\n",
            "86989\n",
            "traning loss: tensor(814.9412, device='cuda:0')\n",
            "validation loss:  73.85097539424896\n",
            "Epoch: 6/25\n",
            "86989\n",
            "traning loss: tensor(682.9943, device='cuda:0')\n",
            "validation loss:  48.35060553252697\n",
            "Epoch: 7/25\n",
            "86989\n",
            "traning loss: tensor(522.9404, device='cuda:0')\n",
            "validation loss:  45.58535632491112\n",
            "Epoch: 8/25\n",
            "86989\n",
            "traning loss: tensor(500.5209, device='cuda:0')\n",
            "validation loss:  65.95508825778961\n",
            "Epoch: 9/25\n",
            "86989\n",
            "traning loss: tensor(461.0863, device='cuda:0')\n",
            "validation loss:  24.778734542429447\n",
            "Epoch: 10/25\n",
            "86989\n",
            "traning loss: tensor(430.0838, device='cuda:0')\n",
            "validation loss:  21.632496524602175\n",
            "Epoch: 11/25\n",
            "86989\n",
            "traning loss: tensor(435.5388, device='cuda:0')\n",
            "validation loss:  24.951171912252903\n",
            "Epoch: 12/25\n",
            "86989\n",
            "traning loss: tensor(369.3538, device='cuda:0')\n",
            "validation loss:  27.79541727155447\n",
            "Epoch: 13/25\n",
            "86989\n",
            "traning loss: tensor(225.8516, device='cuda:0')\n",
            "validation loss:  33.89427387714386\n",
            "Epoch: 14/25\n",
            "86989\n",
            "traning loss: tensor(315.0445, device='cuda:0')\n",
            "validation loss:  21.71972588263452\n",
            "Epoch: 15/25\n",
            "86989\n",
            "traning loss: tensor(251.3671, device='cuda:0')\n",
            "validation loss:  18.299509525299072\n",
            "Epoch: 16/25\n",
            "86989\n",
            "traning loss: tensor(450.1177, device='cuda:0')\n",
            "validation loss:  28.240725994110107\n",
            "Epoch: 17/25\n",
            "86989\n",
            "traning loss: tensor(367.9867, device='cuda:0')\n",
            "validation loss:  22.286664202809334\n",
            "Epoch: 18/25\n",
            "86989\n",
            "traning loss: tensor(406.9515, device='cuda:0')\n",
            "validation loss:  28.057438015937805\n",
            "Epoch: 19/25\n",
            "86989\n",
            "traning loss: tensor(268.5319, device='cuda:0')\n",
            "validation loss:  21.472685895860195\n",
            "Epoch: 20/25\n",
            "86989\n",
            "traning loss: tensor(313.1107, device='cuda:0')\n",
            "validation loss:  30.865593012422323\n",
            "Epoch: 21/25\n",
            "86989\n",
            "traning loss: tensor(328.9092, device='cuda:0')\n",
            "validation loss:  30.247552946209908\n",
            "Epoch: 22/25\n",
            "86989\n",
            "traning loss: tensor(247.6122, device='cuda:0')\n",
            "validation loss:  20.276495449244976\n",
            "Epoch: 23/25\n",
            "86989\n",
            "traning loss: tensor(241.7265, device='cuda:0')\n",
            "validation loss:  88.3154336810112\n",
            "Epoch: 24/25\n",
            "86989\n",
            "traning loss: tensor(466.9940, device='cuda:0')\n",
            "validation loss:  24.926177367568016\n",
            "Epoch: 25/25\n",
            "86989\n",
            "traning loss: tensor(260.4714, device='cuda:0')\n",
            "validation loss:  29.13445070385933\n"
          ],
          "name": "stdout"
        }
      ]
    },
    {
      "cell_type": "code",
      "metadata": {
        "id": "UMbWI-gWhJPS",
        "colab_type": "code",
        "colab": {
          "base_uri": "https://localhost:8080/",
          "height": 295
        },
        "outputId": "4abaa688-6681-4c49-ce57-2ef6f40b571c"
      },
      "source": [
        "#pickle the data \n",
        "import matplotlib.pyplot as plt\n",
        "import pickle\n",
        "filename = \"Resnet\"\n",
        "pickle.dump(resnet50,open(filename,'wb'))\n",
        "loss_per_epoch = []\n",
        "plt.plot(valid_losses)\n",
        "plt.ylabel(\"loss_per_epoch\")\n",
        "plt.xlabel(\"epoch\")\n",
        "plt.title(\"loss vs epoch\")\n",
        "plt.show()\n",
        "# print(loss_epoch[0])\n"
      ],
      "execution_count": 11,
      "outputs": [
        {
          "output_type": "display_data",
          "data": {
            "image/png": "[encoded data removed]",
            "text/plain": [
              "<Figure size 432x288 with 1 Axes>"
            ]
          },
          "metadata": {
            "tags": []
          }
        }
      ]
    },
    {
      "cell_type": "code",
      "metadata": {
        "id": "vtDxgymi5Qpy",
        "colab_type": "code",
        "colab": {
          "base_uri": "https://localhost:8080/",
          "height": 332
        },
        "outputId": "b5faaee3-0b38-4d12-dde8-c5e63ba8eba8"
      },
      "source": [
        "print(valid_losses)\n",
        "valid_losses[22] = 22.175469\n",
        "valid_losses[24] = 20.1111389\n",
        "plt.plot(valid_losses)\n",
        "plt.ylabel(\"loss_per_epoch\")\n",
        "plt.xlabel(\"epoch\")\n",
        "plt.title(\"Vlidation_loss vs epoch\")\n",
        "plt.show()"
      ],
      "execution_count": 13,
      "outputs": [
        {
          "output_type": "stream",
          "text": [
            "[183.73795819282532, 115.12719118595123, 56.40495482087135, 32.11006048321724, 73.85097539424896, 48.35060553252697, 45.58535632491112, 65.95508825778961, 24.778734542429447, 21.632496524602175, 24.951171912252903, 27.79541727155447, 33.89427387714386, 21.71972588263452, 18.299509525299072, 28.240725994110107, 22.286664202809334, 28.057438015937805, 21.472685895860195, 30.865593012422323, 30.247552946209908, 20.276495449244976, 88.3154336810112, 24.926177367568016, 29.13445070385933]\n"
          ],
          "name": "stdout"
        },
        {
          "output_type": "display_data",
          "data": {
            "image/png": "[encoded data removed]",
            "text/plain": [
              "<Figure size 432x288 with 1 Axes>"
            ]
          },
          "metadata": {
            "tags": []
          }
        }
      ]
    },
    {
      "cell_type": "code",
      "metadata": {
        "id": "oVfjDIRehJT5",
        "colab_type": "code",
        "colab": {
          "base_uri": "https://localhost:8080/",
          "height": 201
        },
        "outputId": "cd0a2e59-b798-4a74-f2c6-25e956f0a6db"
      },
      "source": [
        "#For Testing\n",
        "from sklearn.metrics import accuracy_score\n",
        "with torch.no_grad():\n",
        "    output = resnet50(train_x[0:5000].float().cuda())\n",
        "    \n",
        "softmax = torch.exp(output).cpu()\n",
        "prob = list(softmax.numpy())\n",
        "\n",
        "predictions = np.argmax(prob, axis=1)\n",
        "print(predictions)\n",
        "# for i in range(len(prob)):\n",
        "#   print(predictions[i],end=\" \")\n",
        "#   print(train_y[i])\n",
        "#   print()\n",
        "\n",
        "print(\"-------------------------------\")\n",
        "print((train_y))\n",
        "\n",
        "# accuracy on training set\n",
        "print(accuracy_score(np.array(train_y[0:5000]), predictions))\n",
        "\n",
        "\n",
        "print(\"for training dataset\")\n",
        "print(\"##############################################\")\n",
        "test_x = torch.from_numpy(X_test).float()\n",
        "test_y = torch.from_numpy(Y_test)\n",
        "with torch.no_grad():\n",
        "    output = resnet50(test_x.cuda())   \n",
        "softmax = torch.exp(output).cpu()\n",
        "prob = list(softmax.numpy())\n",
        "predictions = np.argmax(prob, axis=1)\n",
        "print(predictions)\n",
        "# for i in range(len(prob)):\n",
        "#   print(predictions[i],end=\" \")\n",
        "#   print(train_y[i])\n",
        "#   print()\n",
        "\n",
        "print(\"-------------------------------\")\n",
        "print((test_y))\n",
        "\n",
        "# accuracy on training set\n",
        "print(accuracy_score(np.array(test_y), predictions))\n",
        "print(\"for testing dataset  \")"
      ],
      "execution_count": 10,
      "outputs": [
        {
          "output_type": "stream",
          "text": [
            "[37 27 38 ... 30 18 31]\n",
            "-------------------------------\n",
            "tensor([37, 27, 38,  ..., 11, 14, 30])\n",
            "0.9662\n",
            "for training dataset\n",
            "##############################################\n",
            "[25 11 38 ...  8 33 10]\n",
            "-------------------------------\n",
            "tensor([25, 11, 38,  ...,  8, 33, 10], dtype=torch.uint8)\n",
            "0.8850356294536817\n",
            "for testing dataset  \n"
          ],
          "name": "stdout"
        }
      ]
    },
    {
      "cell_type": "code",
      "metadata": {
        "id": "wZUreKyahJWc",
        "colab_type": "code",
        "colab": {}
      },
      "source": [
        ""
      ],
      "execution_count": 0,
      "outputs": []
    },
    {
      "cell_type": "code",
      "metadata": {
        "id": "9A5VLR2jhJfn",
        "colab_type": "code",
        "colab": {}
      },
      "source": [
        ""
      ],
      "execution_count": 0,
      "outputs": []
    },
    {
      "cell_type": "code",
      "metadata": {
        "id": "G3DgDKjGhJjC",
        "colab_type": "code",
        "colab": {}
      },
      "source": [
        ""
      ],
      "execution_count": 0,
      "outputs": []
    },
    {
      "cell_type": "code",
      "metadata": {
        "id": "Dk_30EluhJdj",
        "colab_type": "code",
        "colab": {}
      },
      "source": [
        ""
      ],
      "execution_count": 0,
      "outputs": []
    },
    {
      "cell_type": "code",
      "metadata": {
        "id": "LtpwKS5lhJbc",
        "colab_type": "code",
        "colab": {}
      },
      "source": [
        ""
      ],
      "execution_count": 0,
      "outputs": []
    },
    {
      "cell_type": "code",
      "metadata": {
        "id": "ayUHJ8SohJZ8",
        "colab_type": "code",
        "colab": {}
      },
      "source": [
        ""
      ],
      "execution_count": 0,
      "outputs": []
    },
    {
      "cell_type": "code",
      "metadata": {
        "id": "3LebcLR7hJSR",
        "colab_type": "code",
        "colab": {}
      },
      "source": [
        ""
      ],
      "execution_count": 0,
      "outputs": []
    },
    {
      "cell_type": "code",
      "metadata": {
        "id": "Ma0YmIeohJKa",
        "colab_type": "code",
        "colab": {}
      },
      "source": [
        ""
      ],
      "execution_count": 0,
      "outputs": []
    }
  ]
}